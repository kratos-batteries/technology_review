{
 "nbformat": 4,
 "nbformat_minor": 2,
 "metadata": {
  "language_info": {
   "name": "python",
   "codemirror_mode": {
    "name": "ipython",
    "version": 3
   },
   "version": "3.7.4-final"
  },
  "orig_nbformat": 2,
  "file_extension": ".py",
  "mimetype": "text/x-python",
  "name": "python",
  "npconvert_exporter": "python",
  "pygments_lexer": "ipython3",
  "version": 3,
  "kernelspec": {
   "name": "python37464bitbasecondaaedb3b0a6ce64122a565c132635c4aab",
   "display_name": "Python 3.7.4 64-bit ('base': conda)"
  }
 },
 "cells": [
  {
   "cell_type": "code",
   "execution_count": 1,
   "metadata": {},
   "outputs": [],
   "source": [
    "import pymatgen.apps.battery.analyzer as ans\n",
    "import pymatgen.apps.battery.battery_abc as bat\n",
    "import pymatgen.apps.battery.insertion_battery as ins\n"
   ]
  },
  {
   "cell_type": "code",
   "execution_count": 2,
   "metadata": {},
   "outputs": [],
   "source": [
    "a=bat.AbstractElectrode.voltage_pairs"
   ]
  },
  {
   "cell_type": "code",
   "execution_count": 3,
   "metadata": {},
   "outputs": [
    {
     "name": "stdout",
     "output_type": "stream",
     "text": "<property object at 0x7f26c9161e30>\n"
    }
   ],
   "source": [
    "print(a)"
   ]
  },
  {
   "cell_type": "code",
   "execution_count": 4,
   "metadata": {},
   "outputs": [],
   "source": [
    "from pymatgen import MPRester\n",
    "if __name__ == \"__main__\":\n",
    "    MAPI_KEY = 'T6m6yGppfgtTxpT1'\n",
    "mpr = MPRester(MAPI_KEY)"
   ]
  },
  {
   "cell_type": "code",
   "execution_count": 5,
   "metadata": {},
   "outputs": [],
   "source": [
    "def get_battery_data(self, formula_or_batt_id):\n",
    "    \"\"\"Returns batteries from a batt id or formula.\n",
    "\n",
    "    Examples:\n",
    "        get_battery(\"mp-300585433\")\n",
    "        get_battery(\"LiFePO4\")\n",
    "    \"\"\"\n",
    "    return mpr._make_request('/battery/%s' % formula_or_batt_id)\n",
    "\n",
    "MPRester.get_battery_data = get_battery_data"
   ]
  },
  {
   "cell_type": "code",
   "execution_count": 6,
   "metadata": {},
   "outputs": [],
   "source": [
    "results_formula = mpr.get_battery_data(\"LiFePO4\")\n",
    "results_battid = mpr.get_battery_data(\"mp-767263_Li\")"
   ]
  },
  {
   "cell_type": "code",
   "execution_count": 7,
   "metadata": {},
   "outputs": [
    {
     "data": {
      "text/plain": "[{'battid': 'mp-767263_Li',\n  'reduced_cell_formula': 'FePO4',\n  'average_voltage': 3.692889619999993,\n  'min_voltage': 3.692889619999993,\n  'max_voltage': 3.692889619999993,\n  'nsteps': 1,\n  'min_instability': 0.04717330857142876,\n  'capacity_grav': 84.94526346177638,\n  'capacity_vol': 255.90063836236286,\n  'working_ion': 'Li',\n  'min_frac': 0.07692307692307693,\n  'max_frac': 0.14285714285714285,\n  'reduced_cell_composition': {'Fe': 1.0, 'P': 1.0, 'O': 4.0},\n  'framework': {'reduced_cell_composition': {'Fe': 1.0, 'P': 1.0, 'O': 4.0},\n   'unit_cell_composition': {'Fe': 1.0, 'P': 1.0, 'O': 4.0},\n   'reduced_cell_formula': 'FePO4',\n   'elements': ['Fe', 'P', 'O'],\n   'nelements': 3},\n  'adj_pairs': [{'average_voltage': 3.692889619999993,\n    'max_voltage': 3.692889619999993,\n    'min_voltage': 3.692889619999993,\n    'max_delta_volume': 0.007413314390684489,\n    'max_voltage_step': 0,\n    'capacity_grav': 84.94526346177638,\n    'capacity_vol': 255.90063836236286,\n    'energy_grav': 313.69348170615865,\n    'energy_vol': 945.0128111597419,\n    'working_ion': 'Li',\n    'nsteps': 1,\n    'framework': {'reduced_cell_composition': {'Fe': 1.0, 'P': 1.0, 'O': 4.0},\n     'unit_cell_composition': {'Fe': 1.0, 'P': 1.0, 'O': 4.0},\n     'reduced_cell_formula': 'FePO4',\n     'elements': ['Fe', 'P', 'O'],\n     'nelements': 3},\n    'formula_charge': 'LiFe2(PO4)2',\n    'id_charge': 'mp-767263',\n    'formula_discharge': 'LiFePO4',\n    'id_discharge': 'mp-774251',\n    'fracA_charge': 0.07692307692307693,\n    'fracA_discharge': 0.14285714285714285,\n    'max_instability': 0.08161554349358902,\n    'min_instability': 0.04717330857142876,\n    'material_ids': ['mp-767263', 'mp-774251'],\n    'stable_material_ids': ['mp-767263', 'mp-774251'],\n    'unstable_material_ids': [],\n    'stability_charge': 0.08161554349358902,\n    'stability_discharge': 0.04717330857142876,\n    'stability_data': {'mp-767263': 0.08161554349358902,\n     'mp-774251': 0.04717330857142876},\n    'muO2_data': {'mp-767263': [{'reaction': 'LiFe2(PO4)2 + 0.25 O2 -> 0.3333 Li3Fe2(PO4)3 + FePO4 + 0.1667 Fe2O3',\n       'chempot': -4.93552791875,\n       'evolution': 0.4999999999999997},\n      {'reaction': 'LiFe2(PO4)2 + 0.125 O2 -> 0.3333 Li3Fe2(PO4)3 + 0.1667 Fe7(PO4)6 + 0.08333 Fe2O3',\n       'chempot': -6.588089365000031,\n       'evolution': 0.25000000000000017},\n      {'reaction': 'LiFe2(PO4)2 -> 0.1667 Li3Fe2(PO4)3 + 0.1667 Fe7(PO4)6 + 0.5 LiFePO4',\n       'chempot': -6.598876046666659,\n       'evolution': 1.2027416100106096e-16},\n      {'reaction': 'LiFe2(PO4)2 -> 0.03448 Li9Fe3P8O29 + 0.1724 Fe7(PO4)6 + 0.6897 LiFePO4 + 0.05172 O2',\n       'chempot': -6.779498684027791,\n       'evolution': -0.10344827586208005},\n      {'reaction': 'LiFe2(PO4)2 -> 0.1 Fe3(P2O7)2 + 0.1 Fe7(PO4)6 + LiFePO4 + 0.1 O2',\n       'chempot': -6.82471121026782,\n       'evolution': -0.19999999999999993},\n      {'reaction': 'LiFe2(PO4)2 -> 0.5 Fe2P2O7 + LiFePO4 + 0.25 O2',\n       'chempot': -7.12431357083335,\n       'evolution': -0.5000000000000008},\n      {'reaction': 'LiFe2(PO4)2 -> LiFePO4 + FeP + 2 O2',\n       'chempot': -8.460456380714286,\n       'evolution': -3.9999999999999947},\n      {'reaction': 'LiFe2(PO4)2 -> 0.3333 Fe2P + 1.333 FeP + 0.3333 Li3PO4 + 3.333 O2',\n       'chempot': -8.543402247187505,\n       'evolution': -6.66666666666667},\n      {'reaction': 'LiFe2(PO4)2 -> 0.05882 Li2Fe12P7 + 1.294 FeP + 0.2941 Li3PO4 + 3.412 O2',\n       'chempot': -9.598083249374994,\n       'evolution': -6.823529411764711},\n      {'reaction': 'LiFe2(PO4)2 -> LiFeP + FeP + 4 O2',\n       'chempot': -9.640805107875,\n       'evolution': -7.999999999999996}],\n     'mp-774251': [{'reaction': '2 LiFePO4 + 0.5 O2 -> 0.6667 Li3Fe2(PO4)3 + 0.3333 Fe2O3',\n       'chempot': -4.93552791875,\n       'evolution': 1.0},\n      {'reaction': '2 LiFePO4 -> 2 LiFePO4',\n       'chempot': -6.598876046666654,\n       'evolution': 1.2143064331837623e-16},\n      {'reaction': '2 LiFePO4 -> 0.6667 Fe2P + 0.6667 FeP + 0.6667 Li3PO4 + 2.667 O2',\n       'chempot': -8.543402247187505,\n       'evolution': -5.333333333333336},\n      {'reaction': '2 LiFePO4 -> 0.1176 Li2Fe12P7 + 0.5882 FeP + 0.5882 Li3PO4 + 2.824 O2',\n       'chempot': -9.598083249374994,\n       'evolution': -5.647058823529421},\n      {'reaction': '2 LiFePO4 -> 2 LiFeP + 4 O2',\n       'chempot': -9.640805107875,\n       'evolution': -8.000000000000005}]}}],\n  'spacegroup': {'number': 1,\n   'hall_number': 1,\n   'international': 'P1',\n   'hall': 'P 1',\n   'choice': ''},\n  'energy_grav': 313.69348170615865,\n  'energy_vol': 945.0128111597419,\n  'numsites': 6.0,\n  'type': 'intercalation'}]"
     },
     "execution_count": 7,
     "metadata": {},
     "output_type": "execute_result"
    }
   ],
   "source": [
    "results_battid"
   ]
  },
  {
   "cell_type": "code",
   "execution_count": 8,
   "metadata": {},
   "outputs": [
    {
     "data": {
      "text/plain": "list"
     },
     "execution_count": 8,
     "metadata": {},
     "output_type": "execute_result"
    }
   ],
   "source": [
    "type(results_formula)"
   ]
  },
  {
   "cell_type": "code",
   "execution_count": 9,
   "metadata": {},
   "outputs": [
    {
     "data": {
      "text/html": "<div>\n<style scoped>\n    .dataframe tbody tr th:only-of-type {\n        vertical-align: middle;\n    }\n\n    .dataframe tbody tr th {\n        vertical-align: top;\n    }\n\n    .dataframe thead th {\n        text-align: right;\n    }\n</style>\n<table border=\"1\" class=\"dataframe\">\n  <thead>\n    <tr style=\"text-align: right;\">\n      <th></th>\n      <th>battid</th>\n      <th>reduced_cell_formula</th>\n      <th>average_voltage</th>\n      <th>min_voltage</th>\n      <th>max_voltage</th>\n      <th>nsteps</th>\n      <th>min_instability</th>\n      <th>capacity_grav</th>\n      <th>capacity_vol</th>\n      <th>working_ion</th>\n      <th>min_frac</th>\n      <th>max_frac</th>\n      <th>reduced_cell_composition</th>\n      <th>framework</th>\n      <th>adj_pairs</th>\n      <th>spacegroup</th>\n      <th>energy_grav</th>\n      <th>energy_vol</th>\n      <th>numsites</th>\n      <th>type</th>\n    </tr>\n  </thead>\n  <tbody>\n    <tr>\n      <th>0</th>\n      <td>mp-767263_Li</td>\n      <td>FePO4</td>\n      <td>3.692890</td>\n      <td>3.692890</td>\n      <td>3.692890</td>\n      <td>1</td>\n      <td>4.717331e-02</td>\n      <td>84.945263</td>\n      <td>255.900638</td>\n      <td>Li</td>\n      <td>0.076923</td>\n      <td>0.142857</td>\n      <td>{'Fe': 1.0, 'P': 1.0, 'O': 4.0}</td>\n      <td>{'reduced_cell_composition': {'Fe': 1.0, 'P': ...</td>\n      <td>[{'average_voltage': 3.692889619999993, 'max_v...</td>\n      <td>{'number': 1, 'hall_number': 1, 'international...</td>\n      <td>313.693482</td>\n      <td>945.012811</td>\n      <td>6.0</td>\n      <td>intercalation</td>\n    </tr>\n    <tr>\n      <th>1</th>\n      <td>mp-1101554_Li</td>\n      <td>FePO4</td>\n      <td>3.322824</td>\n      <td>3.322824</td>\n      <td>3.322824</td>\n      <td>1</td>\n      <td>1.488926e-02</td>\n      <td>169.890527</td>\n      <td>489.744016</td>\n      <td>Li</td>\n      <td>0.000000</td>\n      <td>0.142857</td>\n      <td>{'Fe': 1.0, 'P': 1.0, 'O': 4.0}</td>\n      <td>{'reduced_cell_composition': {'Fe': 1.0, 'P': ...</td>\n      <td>[{'average_voltage': 3.322824209999998, 'max_v...</td>\n      <td>{'number': 33, 'hall_number': 164, 'internatio...</td>\n      <td>564.516356</td>\n      <td>1627.333273</td>\n      <td>6.0</td>\n      <td>intercalation</td>\n    </tr>\n    <tr>\n      <th>2</th>\n      <td>mp-765990_Li</td>\n      <td>FePO4</td>\n      <td>3.469497</td>\n      <td>3.438614</td>\n      <td>3.500380</td>\n      <td>2</td>\n      <td>5.101034e-02</td>\n      <td>169.890527</td>\n      <td>499.377675</td>\n      <td>Li</td>\n      <td>0.000000</td>\n      <td>0.142857</td>\n      <td>{'Fe': 1.0, 'P': 1.0, 'O': 4.0}</td>\n      <td>{'reduced_cell_composition': {'Fe': 1.0, 'P': ...</td>\n      <td>[{'average_voltage': 3.5003797350000005, 'max_...</td>\n      <td>{'number': 7, 'hall_number': 21, 'internationa...</td>\n      <td>589.434665</td>\n      <td>1732.589321</td>\n      <td>6.0</td>\n      <td>intercalation</td>\n    </tr>\n    <tr>\n      <th>3</th>\n      <td>mp-31846_Li</td>\n      <td>FePO4</td>\n      <td>3.213571</td>\n      <td>3.213571</td>\n      <td>3.213571</td>\n      <td>1</td>\n      <td>4.181297e-03</td>\n      <td>169.890527</td>\n      <td>489.965158</td>\n      <td>Li</td>\n      <td>0.000000</td>\n      <td>0.142857</td>\n      <td>{'Fe': 1.0, 'P': 1.0, 'O': 4.0}</td>\n      <td>{'reduced_cell_composition': {'Fe': 1.0, 'P': ...</td>\n      <td>[{'average_voltage': 3.213570862499997, 'max_v...</td>\n      <td>{'number': 7, 'hall_number': 21, 'internationa...</td>\n      <td>545.955247</td>\n      <td>1574.537757</td>\n      <td>6.0</td>\n      <td>intercalation</td>\n    </tr>\n    <tr>\n      <th>4</th>\n      <td>mp-19017_Li</td>\n      <td>FePO4</td>\n      <td>3.404584</td>\n      <td>3.404584</td>\n      <td>3.404584</td>\n      <td>1</td>\n      <td>-8.881784e-16</td>\n      <td>169.890527</td>\n      <td>588.739457</td>\n      <td>Li</td>\n      <td>0.000000</td>\n      <td>0.142857</td>\n      <td>{'Fe': 1.0, 'P': 1.0, 'O': 4.0}</td>\n      <td>{'reduced_cell_composition': {'Fe': 1.0, 'P': ...</td>\n      <td>[{'average_voltage': 3.404584097500004, 'max_v...</td>\n      <td>{'number': 62, 'hall_number': 292, 'internatio...</td>\n      <td>578.406586</td>\n      <td>2004.412992</td>\n      <td>6.0</td>\n      <td>intercalation</td>\n    </tr>\n    <tr>\n      <th>5</th>\n      <td>mp-761486_Li</td>\n      <td>FePO4</td>\n      <td>3.134051</td>\n      <td>3.134051</td>\n      <td>3.134051</td>\n      <td>1</td>\n      <td>1.362167e-05</td>\n      <td>169.890527</td>\n      <td>498.828023</td>\n      <td>Li</td>\n      <td>0.000000</td>\n      <td>0.142857</td>\n      <td>{'Fe': 1.0, 'P': 1.0, 'O': 4.0}</td>\n      <td>{'reduced_cell_composition': {'Fe': 1.0, 'P': ...</td>\n      <td>[{'average_voltage': 3.134050760000006, 'max_v...</td>\n      <td>{'number': 82, 'hall_number': 356, 'internatio...</td>\n      <td>532.445535</td>\n      <td>1563.352346</td>\n      <td>6.0</td>\n      <td>intercalation</td>\n    </tr>\n    <tr>\n      <th>6</th>\n      <td>mp-1176749_Li</td>\n      <td>FePO4</td>\n      <td>3.317357</td>\n      <td>3.317357</td>\n      <td>3.317357</td>\n      <td>1</td>\n      <td>1.497606e-02</td>\n      <td>169.890527</td>\n      <td>606.196533</td>\n      <td>Li</td>\n      <td>0.000000</td>\n      <td>0.142857</td>\n      <td>{'Fe': 1.0, 'P': 1.0, 'O': 4.0}</td>\n      <td>{'reduced_cell_composition': {'Fe': 1.0, 'P': ...</td>\n      <td>[{'average_voltage': 3.3173574133333377, 'max_...</td>\n      <td>{'number': 40, 'hall_number': 197, 'internatio...</td>\n      <td>563.587599</td>\n      <td>2010.970563</td>\n      <td>6.0</td>\n      <td>intercalation</td>\n    </tr>\n    <tr>\n      <th>7</th>\n      <td>mp-585433_Li</td>\n      <td>FePO4</td>\n      <td>3.278521</td>\n      <td>3.278521</td>\n      <td>3.278521</td>\n      <td>1</td>\n      <td>5.207150e-03</td>\n      <td>169.890527</td>\n      <td>489.823159</td>\n      <td>Li</td>\n      <td>0.000000</td>\n      <td>0.142857</td>\n      <td>{'Fe': 1.0, 'P': 1.0, 'O': 4.0}</td>\n      <td>{'reduced_cell_composition': {'Fe': 1.0, 'P': ...</td>\n      <td>[{'average_voltage': 3.2785205462499984, 'max_...</td>\n      <td>{'number': 9, 'hall_number': 39, 'internationa...</td>\n      <td>556.989583</td>\n      <td>1605.895290</td>\n      <td>6.0</td>\n      <td>intercalation</td>\n    </tr>\n    <tr>\n      <th>8</th>\n      <td>mp-1177117_Li</td>\n      <td>FePO4</td>\n      <td>2.525802</td>\n      <td>-0.221092</td>\n      <td>3.212526</td>\n      <td>2</td>\n      <td>0.000000e+00</td>\n      <td>210.052687</td>\n      <td>619.720319</td>\n      <td>Li</td>\n      <td>0.000000</td>\n      <td>0.172414</td>\n      <td>{'Fe': 1.0, 'P': 1.0, 'O': 4.0}</td>\n      <td>{'reduced_cell_composition': {'Fe': 1.0, 'P': ...</td>\n      <td>[{'average_voltage': 3.2125259075, 'max_voltag...</td>\n      <td>{'number': 33, 'hall_number': 164, 'internatio...</td>\n      <td>530.551567</td>\n      <td>1565.291028</td>\n      <td>6.0</td>\n      <td>intercalation</td>\n    </tr>\n    <tr>\n      <th>9</th>\n      <td>mp-504149_Li</td>\n      <td>FePO4</td>\n      <td>2.964264</td>\n      <td>2.964264</td>\n      <td>2.964264</td>\n      <td>1</td>\n      <td>5.747962e-03</td>\n      <td>169.890527</td>\n      <td>496.861806</td>\n      <td>Li</td>\n      <td>0.000000</td>\n      <td>0.142857</td>\n      <td>{'Fe': 1.0, 'P': 1.0, 'O': 4.0}</td>\n      <td>{'reduced_cell_composition': {'Fe': 1.0, 'P': ...</td>\n      <td>[{'average_voltage': 2.9642644241666694, 'max_...</td>\n      <td>{'number': 14, 'hall_number': 81, 'internation...</td>\n      <td>503.600445</td>\n      <td>1472.829775</td>\n      <td>6.0</td>\n      <td>intercalation</td>\n    </tr>\n  </tbody>\n</table>\n</div>",
      "text/plain": "          battid reduced_cell_formula  average_voltage  min_voltage  \\\n0   mp-767263_Li                FePO4         3.692890     3.692890   \n1  mp-1101554_Li                FePO4         3.322824     3.322824   \n2   mp-765990_Li                FePO4         3.469497     3.438614   \n3    mp-31846_Li                FePO4         3.213571     3.213571   \n4    mp-19017_Li                FePO4         3.404584     3.404584   \n5   mp-761486_Li                FePO4         3.134051     3.134051   \n6  mp-1176749_Li                FePO4         3.317357     3.317357   \n7   mp-585433_Li                FePO4         3.278521     3.278521   \n8  mp-1177117_Li                FePO4         2.525802    -0.221092   \n9   mp-504149_Li                FePO4         2.964264     2.964264   \n\n   max_voltage  nsteps  min_instability  capacity_grav  capacity_vol  \\\n0     3.692890       1     4.717331e-02      84.945263    255.900638   \n1     3.322824       1     1.488926e-02     169.890527    489.744016   \n2     3.500380       2     5.101034e-02     169.890527    499.377675   \n3     3.213571       1     4.181297e-03     169.890527    489.965158   \n4     3.404584       1    -8.881784e-16     169.890527    588.739457   \n5     3.134051       1     1.362167e-05     169.890527    498.828023   \n6     3.317357       1     1.497606e-02     169.890527    606.196533   \n7     3.278521       1     5.207150e-03     169.890527    489.823159   \n8     3.212526       2     0.000000e+00     210.052687    619.720319   \n9     2.964264       1     5.747962e-03     169.890527    496.861806   \n\n  working_ion  min_frac  max_frac         reduced_cell_composition  \\\n0          Li  0.076923  0.142857  {'Fe': 1.0, 'P': 1.0, 'O': 4.0}   \n1          Li  0.000000  0.142857  {'Fe': 1.0, 'P': 1.0, 'O': 4.0}   \n2          Li  0.000000  0.142857  {'Fe': 1.0, 'P': 1.0, 'O': 4.0}   \n3          Li  0.000000  0.142857  {'Fe': 1.0, 'P': 1.0, 'O': 4.0}   \n4          Li  0.000000  0.142857  {'Fe': 1.0, 'P': 1.0, 'O': 4.0}   \n5          Li  0.000000  0.142857  {'Fe': 1.0, 'P': 1.0, 'O': 4.0}   \n6          Li  0.000000  0.142857  {'Fe': 1.0, 'P': 1.0, 'O': 4.0}   \n7          Li  0.000000  0.142857  {'Fe': 1.0, 'P': 1.0, 'O': 4.0}   \n8          Li  0.000000  0.172414  {'Fe': 1.0, 'P': 1.0, 'O': 4.0}   \n9          Li  0.000000  0.142857  {'Fe': 1.0, 'P': 1.0, 'O': 4.0}   \n\n                                           framework  \\\n0  {'reduced_cell_composition': {'Fe': 1.0, 'P': ...   \n1  {'reduced_cell_composition': {'Fe': 1.0, 'P': ...   \n2  {'reduced_cell_composition': {'Fe': 1.0, 'P': ...   \n3  {'reduced_cell_composition': {'Fe': 1.0, 'P': ...   \n4  {'reduced_cell_composition': {'Fe': 1.0, 'P': ...   \n5  {'reduced_cell_composition': {'Fe': 1.0, 'P': ...   \n6  {'reduced_cell_composition': {'Fe': 1.0, 'P': ...   \n7  {'reduced_cell_composition': {'Fe': 1.0, 'P': ...   \n8  {'reduced_cell_composition': {'Fe': 1.0, 'P': ...   \n9  {'reduced_cell_composition': {'Fe': 1.0, 'P': ...   \n\n                                           adj_pairs  \\\n0  [{'average_voltage': 3.692889619999993, 'max_v...   \n1  [{'average_voltage': 3.322824209999998, 'max_v...   \n2  [{'average_voltage': 3.5003797350000005, 'max_...   \n3  [{'average_voltage': 3.213570862499997, 'max_v...   \n4  [{'average_voltage': 3.404584097500004, 'max_v...   \n5  [{'average_voltage': 3.134050760000006, 'max_v...   \n6  [{'average_voltage': 3.3173574133333377, 'max_...   \n7  [{'average_voltage': 3.2785205462499984, 'max_...   \n8  [{'average_voltage': 3.2125259075, 'max_voltag...   \n9  [{'average_voltage': 2.9642644241666694, 'max_...   \n\n                                          spacegroup  energy_grav  \\\n0  {'number': 1, 'hall_number': 1, 'international...   313.693482   \n1  {'number': 33, 'hall_number': 164, 'internatio...   564.516356   \n2  {'number': 7, 'hall_number': 21, 'internationa...   589.434665   \n3  {'number': 7, 'hall_number': 21, 'internationa...   545.955247   \n4  {'number': 62, 'hall_number': 292, 'internatio...   578.406586   \n5  {'number': 82, 'hall_number': 356, 'internatio...   532.445535   \n6  {'number': 40, 'hall_number': 197, 'internatio...   563.587599   \n7  {'number': 9, 'hall_number': 39, 'internationa...   556.989583   \n8  {'number': 33, 'hall_number': 164, 'internatio...   530.551567   \n9  {'number': 14, 'hall_number': 81, 'internation...   503.600445   \n\n    energy_vol  numsites           type  \n0   945.012811       6.0  intercalation  \n1  1627.333273       6.0  intercalation  \n2  1732.589321       6.0  intercalation  \n3  1574.537757       6.0  intercalation  \n4  2004.412992       6.0  intercalation  \n5  1563.352346       6.0  intercalation  \n6  2010.970563       6.0  intercalation  \n7  1605.895290       6.0  intercalation  \n8  1565.291028       6.0  intercalation  \n9  1472.829775       6.0  intercalation  "
     },
     "execution_count": 9,
     "metadata": {},
     "output_type": "execute_result"
    }
   ],
   "source": [
    "import pandas as pd\n",
    "df=pd.DataFrame(results_formula)\n",
    "df.head(10)"
   ]
  },
  {
   "cell_type": "code",
   "execution_count": 10,
   "metadata": {},
   "outputs": [],
   "source": [
    "df2=pd.DataFrame(mpr._make_request('/battery/all_ids'))"
   ]
  },
  {
   "cell_type": "code",
   "execution_count": 11,
   "metadata": {},
   "outputs": [
    {
     "data": {
      "text/html": "<div>\n<style scoped>\n    .dataframe tbody tr th:only-of-type {\n        vertical-align: middle;\n    }\n\n    .dataframe tbody tr th {\n        vertical-align: top;\n    }\n\n    .dataframe thead th {\n        text-align: right;\n    }\n</style>\n<table border=\"1\" class=\"dataframe\">\n  <thead>\n    <tr style=\"text-align: right;\">\n      <th></th>\n      <th>0</th>\n    </tr>\n  </thead>\n  <tbody>\n    <tr>\n      <th>0</th>\n      <td>mp-504791_Li</td>\n    </tr>\n    <tr>\n      <th>1</th>\n      <td>mp-763480_Li</td>\n    </tr>\n    <tr>\n      <th>2</th>\n      <td>mp-1176966_Li</td>\n    </tr>\n    <tr>\n      <th>3</th>\n      <td>mvc-5592_Li</td>\n    </tr>\n    <tr>\n      <th>4</th>\n      <td>mp-763566_Li</td>\n    </tr>\n    <tr>\n      <th>...</th>\n      <td>...</td>\n    </tr>\n    <tr>\n      <th>4396</th>\n      <td>mp-1180276_Mg</td>\n    </tr>\n    <tr>\n      <th>4397</th>\n      <td>mp-1042619_Mg</td>\n    </tr>\n    <tr>\n      <th>4398</th>\n      <td>mp-1046932_Mg</td>\n    </tr>\n    <tr>\n      <th>4399</th>\n      <td>mp-1041103_Mg</td>\n    </tr>\n    <tr>\n      <th>4400</th>\n      <td>mvc-4401_Mg</td>\n    </tr>\n  </tbody>\n</table>\n<p>4401 rows × 1 columns</p>\n</div>",
      "text/plain": "                  0\n0      mp-504791_Li\n1      mp-763480_Li\n2     mp-1176966_Li\n3       mvc-5592_Li\n4      mp-763566_Li\n...             ...\n4396  mp-1180276_Mg\n4397  mp-1042619_Mg\n4398  mp-1046932_Mg\n4399  mp-1041103_Mg\n4400    mvc-4401_Mg\n\n[4401 rows x 1 columns]"
     },
     "execution_count": 11,
     "metadata": {},
     "output_type": "execute_result"
    }
   ],
   "source": [
    "df2"
   ]
  },
  {
   "cell_type": "code",
   "execution_count": 13,
   "metadata": {},
   "outputs": [
    {
     "data": {
      "text/plain": "[{'average_voltage': 2.9352702600000007,\n  'max_voltage': 2.9352702600000007,\n  'min_voltage': 2.9352702600000007,\n  'max_delta_volume': 0.02545882021693413,\n  'max_voltage_step': 0,\n  'capacity_grav': 298.18751349001025,\n  'capacity_vol': 1172.6982376166177,\n  'energy_grav': 875.2609402505761,\n  'energy_vol': 3442.186260830472,\n  'working_ion': 'Li',\n  'nsteps': 1,\n  'framework': {'reduced_cell_composition': {'V': 1.0, 'O': 2.0},\n   'unit_cell_composition': {'V': 1.0, 'O': 2.0},\n   'reduced_cell_formula': 'VO2',\n   'elements': ['V', 'O'],\n   'nelements': 2},\n  'formula_charge': 'VO2',\n  'id_charge': 'mp-714944',\n  'formula_discharge': 'LiVO2',\n  'id_discharge': 'mp-19340',\n  'fracA_charge': 0.0,\n  'fracA_discharge': 0.25,\n  'max_instability': 0.14416619333333358,\n  'min_instability': 0.0,\n  'material_ids': ['mp-714944',\n   'mp-19340',\n   'mp-25615',\n   'mp-1222527',\n   'mp-771663',\n   'mp-762271'],\n  'stable_material_ids': ['mp-714944', 'mp-19340'],\n  'unstable_material_ids': ['mp-25615',\n   'mp-1222527',\n   'mp-771663',\n   'mp-762271'],\n  'stability_charge': 0.14416619333333358,\n  'stability_discharge': 0.0,\n  'stability_data': {'mp-714944': 0.14416619333333358,\n   'mp-19340': 0.0,\n   'mp-25615': 0.18307044333333167,\n   'mp-1222527': 0.11829462258332768,\n   'mp-771663': 0.09572202744046976,\n   'mp-762271': 0.06764545068181071},\n  'muO2_data': {'mp-714944': [{'reaction': '2 VO2 + 0.5 O2 -> V2O5',\n     'chempot': -4.93552791875,\n     'evolution': 1.0000000000000002},\n    {'reaction': '2 VO2 + 0.3333 O2 -> 0.6667 V3O7',\n     'chempot': -5.822025764999959,\n     'evolution': 0.6666666666666669},\n    {'reaction': '2 VO2 -> 2 VO2',\n     'chempot': -6.296205135000007,\n     'evolution': 4.1633363423443316e-16},\n    {'reaction': '2 VO2 -> 0.6667 V3O5 + 0.3333 O2',\n     'chempot': -7.126288162499993,\n     'evolution': -0.666666666666667},\n    {'reaction': '2 VO2 -> V2O3 + 0.5 O2',\n     'chempot': -7.311159806250037,\n     'evolution': -1.0000000000000002},\n    {'reaction': '2 VO2 -> 2 V + 2 O2',\n     'chempot': -9.153200892083332,\n     'evolution': -4.0}],\n   'mp-19340': [{'reaction': 'LiVO2 + 0.5 O2 -> LiVO3',\n     'chempot': -4.93552791875,\n     'evolution': 0.9999999999999999},\n    {'reaction': 'LiVO2 + 0.4 O2 -> 0.4 LiV2O5 + 0.2 Li3VO4',\n     'chempot': -6.412952117500038,\n     'evolution': 0.7999999999999998},\n    {'reaction': 'LiVO2 + 0.3333 O2 -> 0.6667 VO2 + 0.3333 Li3VO4',\n     'chempot': -6.693512667499985,\n     'evolution': 0.6666666666666663},\n    {'reaction': 'LiVO2 + 0.2222 O2 -> 0.2222 V3O5 + 0.3333 Li3VO4',\n     'chempot': -7.126288162499993,\n     'evolution': 0.4444444444444444},\n    {'reaction': 'LiVO2 + 0.1667 O2 -> 0.3333 Li3VO4 + 0.3333 V2O3',\n     'chempot': -7.311159806250037,\n     'evolution': 0.3333333333333332},\n    {'reaction': 'LiVO2 -> LiVO2',\n     'chempot': -7.808158258749993,\n     'evolution': 1.1102230246251565e-16},\n    {'reaction': 'LiVO2 -> 0.5 Li2O + V + 0.75 O2',\n     'chempot': -9.500995063333335,\n     'evolution': -1.5000000000000002},\n    {'reaction': 'LiVO2 -> V + Li + O2',\n     'chempot': -11.150072890000002,\n     'evolution': -2.0000000000000004}],\n   'mp-25615': [{'reaction': 'VO2 + 0.25 O2 -> 0.5 V2O5',\n     'chempot': -4.93552791875,\n     'evolution': 0.5000000000000004},\n    {'reaction': 'VO2 + 0.1667 O2 -> 0.3333 V3O7',\n     'chempot': -5.822025764999959,\n     'evolution': 0.3333333333333334},\n    {'reaction': 'VO2 -> VO2',\n     'chempot': -6.296205135000007,\n     'evolution': 4.718447854656908e-16},\n    {'reaction': 'VO2 -> 0.3333 V3O5 + 0.1667 O2',\n     'chempot': -7.126288162499993,\n     'evolution': -0.33333333333333354},\n    {'reaction': 'VO2 -> 0.5 V2O3 + 0.25 O2',\n     'chempot': -7.311159806250037,\n     'evolution': -0.5000000000000001},\n    {'reaction': 'VO2 -> V + O2',\n     'chempot': -9.153200892083332,\n     'evolution': -2.000000000000001}],\n   'mp-1222527': [{'reaction': 'LiV3O6 + O2 -> LiVO3 + V2O5',\n     'chempot': -4.93552791875,\n     'evolution': 1.999999999999999},\n    {'reaction': 'LiV3O6 + 0.8333 O2 -> 0.6667 V3O7 + LiVO3',\n     'chempot': -5.822025764999959,\n     'evolution': 1.6666666666666679},\n    {'reaction': 'LiV3O6 + 0.6667 O2 -> LiV2O5 + 0.3333 V3O7',\n     'chempot': -6.127868805000042,\n     'evolution': 1.333333333333334},\n    {'reaction': 'LiV3O6 + 0.5 O2 -> LiV2O5 + VO2',\n     'chempot': -6.296205135000007,\n     'evolution': 1.0000000000000009},\n    {'reaction': 'LiV3O6 + 0.3333 O2 -> 2.667 VO2 + 0.3333 Li3VO4',\n     'chempot': -6.693512667499985,\n     'evolution': 0.6666666666666666},\n    {'reaction': 'LiV3O6 -> 0.8889 V3O5 + 0.3333 Li3VO4 + 0.1111 O2',\n     'chempot': -7.126288162499993,\n     'evolution': -0.2222222222222221},\n    {'reaction': 'LiV3O6 -> 0.3333 Li3VO4 + 1.333 V2O3 + 0.3333 O2',\n     'chempot': -7.311159806250037,\n     'evolution': -0.6666666666666664},\n    {'reaction': 'LiV3O6 -> V2O3 + LiVO2 + 0.5 O2',\n     'chempot': -7.808158258749993,\n     'evolution': -0.9999999999999996},\n    {'reaction': 'LiV3O6 -> LiVO2 + 2 V + 2 O2',\n     'chempot': -9.153200892083332,\n     'evolution': -3.9999999999999973},\n    {'reaction': 'LiV3O6 -> 0.5 Li2O + 3 V + 2.75 O2',\n     'chempot': -9.500995063333335,\n     'evolution': -5.499999999999999},\n    {'reaction': 'LiV3O6 -> 3 V + Li + 3 O2',\n     'chempot': -11.150072890000002,\n     'evolution': -6.0}],\n   'mp-771663': [{'reaction': 'LiV2O4 + 0.75 O2 -> LiVO3 + 0.5 V2O5',\n     'chempot': -4.93552791875,\n     'evolution': 1.4999999999999991},\n    {'reaction': 'LiV2O4 + 0.6667 O2 -> 0.3333 V3O7 + LiVO3',\n     'chempot': -5.822025764999959,\n     'evolution': 1.3333333333333346},\n    {'reaction': 'LiV2O4 + 0.5 O2 -> LiV2O5',\n     'chempot': -6.127868805000042,\n     'evolution': 1.0000000000000007},\n    {'reaction': 'LiV2O4 + 0.3333 O2 -> 1.667 VO2 + 0.3333 Li3VO4',\n     'chempot': -6.693512667499985,\n     'evolution': 0.6666666666666661},\n    {'reaction': 'LiV2O4 + 0.05556 O2 -> 0.5556 V3O5 + 0.3333 Li3VO4',\n     'chempot': -7.126288162499993,\n     'evolution': 0.11111111111111847},\n    {'reaction': 'LiV2O4 -> 0.3333 Li3VO4 + 0.8333 V2O3 + 0.08333 O2',\n     'chempot': -7.311159806250037,\n     'evolution': -0.16666666666666644},\n    {'reaction': 'LiV2O4 -> 0.5 V2O3 + LiVO2 + 0.25 O2',\n     'chempot': -7.808158258749993,\n     'evolution': -0.4999999999999997},\n    {'reaction': 'LiV2O4 -> LiVO2 + V + O2',\n     'chempot': -9.153200892083332,\n     'evolution': -1.999999999999998},\n    {'reaction': 'LiV2O4 -> 0.5 Li2O + 2 V + 1.75 O2',\n     'chempot': -9.500995063333335,\n     'evolution': -3.500000000000001},\n    {'reaction': 'LiV2O4 -> 2 V + Li + 2 O2',\n     'chempot': -11.150072890000002,\n     'evolution': -4.0}],\n   'mp-762271': [{'reaction': 'Li2V3O6 + 1.25 O2 -> 2 LiVO3 + 0.5 V2O5',\n     'chempot': -4.93552791875,\n     'evolution': 2.500000000000003},\n    {'reaction': 'Li2V3O6 + 1.167 O2 -> 0.3333 V3O7 + 2 LiVO3',\n     'chempot': -5.822025764999959,\n     'evolution': 2.3333333333333326},\n    {'reaction': 'Li2V3O6 + O2 -> LiV2O5 + LiVO3',\n     'chempot': -6.127868805000042,\n     'evolution': 2.0},\n    {'reaction': 'Li2V3O6 + 0.9 O2 -> 1.4 LiV2O5 + 0.2 Li3VO4',\n     'chempot': -6.412952117500038,\n     'evolution': 1.7999999999999998},\n    {'reaction': 'Li2V3O6 + 0.6667 O2 -> 2.333 VO2 + 0.6667 Li3VO4',\n     'chempot': -6.693512667499985,\n     'evolution': 1.333333333333333},\n    {'reaction': 'Li2V3O6 + 0.2778 O2 -> 0.7778 V3O5 + 0.6667 Li3VO4',\n     'chempot': -7.126288162499993,\n     'evolution': 0.5555555555555549},\n    {'reaction': 'Li2V3O6 + 0.08333 O2 -> 0.6667 Li3VO4 + 1.167 V2O3',\n     'chempot': -7.311159806250037,\n     'evolution': 0.1666666666666676},\n    {'reaction': 'Li2V3O6 -> 0.5 V2O3 + 2 LiVO2 + 0.25 O2',\n     'chempot': -7.808158258749993,\n     'evolution': -0.5000000000000199},\n    {'reaction': 'Li2V3O6 -> 2 LiVO2 + V + O2',\n     'chempot': -9.153200892083332,\n     'evolution': -2.0000000000000036},\n    {'reaction': 'Li2V3O6 -> Li2O + 3 V + 2.5 O2',\n     'chempot': -9.500995063333335,\n     'evolution': -4.999999999999997},\n    {'reaction': 'Li2V3O6 -> 3 V + 2 Li + 3 O2',\n     'chempot': -11.150072890000002,\n     'evolution': -6.000000000000019}]}}]"
     },
     "execution_count": 13,
     "metadata": {},
     "output_type": "execute_result"
    }
   ],
   "source": [
    "df3=pd.DataFrame(mpr._make_request('/battery/mp-1222527_Li'))\n",
    "type(df3.adj_pairs)\n",
    "df3.adj_pairs[0]"
   ]
  },
  {
   "cell_type": "code",
   "execution_count": 14,
   "metadata": {},
   "outputs": [
    {
     "data": {
      "text/html": "<div>\n<style scoped>\n    .dataframe tbody tr th:only-of-type {\n        vertical-align: middle;\n    }\n\n    .dataframe tbody tr th {\n        vertical-align: top;\n    }\n\n    .dataframe thead th {\n        text-align: right;\n    }\n</style>\n<table border=\"1\" class=\"dataframe\">\n  <thead>\n    <tr style=\"text-align: right;\">\n      <th></th>\n      <th>battid</th>\n      <th>reduced_cell_formula</th>\n      <th>average_voltage</th>\n      <th>min_voltage</th>\n      <th>max_voltage</th>\n      <th>nsteps</th>\n      <th>min_instability</th>\n      <th>capacity_grav</th>\n      <th>capacity_vol</th>\n      <th>working_ion</th>\n      <th>min_frac</th>\n      <th>max_frac</th>\n      <th>reduced_cell_composition</th>\n      <th>framework</th>\n      <th>adj_pairs</th>\n      <th>spacegroup</th>\n      <th>energy_grav</th>\n      <th>energy_vol</th>\n      <th>numsites</th>\n      <th>type</th>\n    </tr>\n  </thead>\n  <tbody>\n    <tr>\n      <th>0</th>\n      <td>mp-1222527_Li</td>\n      <td>VO2</td>\n      <td>2.93527</td>\n      <td>2.93527</td>\n      <td>2.93527</td>\n      <td>1</td>\n      <td>0.0</td>\n      <td>298.187513</td>\n      <td>1172.698238</td>\n      <td>Li</td>\n      <td>0.0</td>\n      <td>0.25</td>\n      <td>{'V': 1.0, 'O': 2.0}</td>\n      <td>{'reduced_cell_composition': {'V': 1.0, 'O': 2...</td>\n      <td>[{'average_voltage': 2.9352702600000007, 'max_...</td>\n      <td>{'number': 12, 'hall_number': 63, 'internation...</td>\n      <td>875.26094</td>\n      <td>3442.186261</td>\n      <td>3.0</td>\n      <td>intercalation</td>\n    </tr>\n  </tbody>\n</table>\n</div>",
      "text/plain": "          battid reduced_cell_formula  average_voltage  min_voltage  \\\n0  mp-1222527_Li                  VO2          2.93527      2.93527   \n\n   max_voltage  nsteps  min_instability  capacity_grav  capacity_vol  \\\n0      2.93527       1              0.0     298.187513   1172.698238   \n\n  working_ion  min_frac  max_frac reduced_cell_composition  \\\n0          Li       0.0      0.25     {'V': 1.0, 'O': 2.0}   \n\n                                           framework  \\\n0  {'reduced_cell_composition': {'V': 1.0, 'O': 2...   \n\n                                           adj_pairs  \\\n0  [{'average_voltage': 2.9352702600000007, 'max_...   \n\n                                          spacegroup  energy_grav  \\\n0  {'number': 12, 'hall_number': 63, 'internation...    875.26094   \n\n    energy_vol  numsites           type  \n0  3442.186261       3.0  intercalation  "
     },
     "execution_count": 14,
     "metadata": {},
     "output_type": "execute_result"
    }
   ],
   "source": [
    "df3"
   ]
  },
  {
   "cell_type": "code",
   "execution_count": 15,
   "metadata": {},
   "outputs": [
    {
     "data": {
      "text/plain": "[]"
     },
     "execution_count": 15,
     "metadata": {},
     "output_type": "execute_result"
    }
   ],
   "source": [
    "data = mpr.query(criteria={\"batt_id\": \"mp-849565_Li\"}, properties=[\"nsteps\"])\n",
    "data"
   ]
  },
  {
   "cell_type": "code",
   "execution_count": null,
   "metadata": {},
   "outputs": [],
   "source": []
  }
 ]
}